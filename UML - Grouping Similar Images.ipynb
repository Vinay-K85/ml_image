{
 "cells": [
  {
   "cell_type": "markdown",
   "metadata": {},
   "source": [
    "# UML - Grouping Similar Images"
   ]
  },
  {
   "cell_type": "code",
   "execution_count": 1,
   "metadata": {},
   "outputs": [],
   "source": [
    "# Import the necessary packages\n",
    "import numpy as np\n",
    "import pandas as pd\n",
    "from sklearn.cluster import KMeans\n",
    "\n",
    "# Dataset\n",
    "from keras.datasets import cifar10"
   ]
  },
  {
   "cell_type": "code",
   "execution_count": 2,
   "metadata": {},
   "outputs": [],
   "source": [
    "# Understanding data\n",
    "(x_trg, y_trg), (x_test, y_test) = cifar10.load_data()"
   ]
  },
  {
   "cell_type": "code",
   "execution_count": 3,
   "metadata": {},
   "outputs": [
    {
     "name": "stdout",
     "output_type": "stream",
     "text": [
      "Original dimension of x training set:  (50000, 32, 32, 3)\n",
      "Original dimension of y training set:  (50000, 1)\n",
      "Original dimension of x test set:  (10000, 32, 32, 3)\n",
      "Original dimension of y test set:  (10000, 1)\n"
     ]
    }
   ],
   "source": [
    "# Characterictics of dataset\n",
    "print(\"Original dimension of x training set: \", x_trg.shape)\n",
    "print(\"Original dimension of y training set: \", y_trg.shape)\n",
    "print(\"Original dimension of x test set: \", x_test.shape)\n",
    "print(\"Original dimension of y test set: \", y_test.shape)"
   ]
  },
  {
   "cell_type": "code",
   "execution_count": 4,
   "metadata": {},
   "outputs": [],
   "source": [
    "# Reshape of training set\n",
    "x_trg = np.reshape(x_trg, (50000, 3072))\n",
    "y_trg = np.reshape(y_trg, 50000)"
   ]
  },
  {
   "cell_type": "code",
   "execution_count": 5,
   "metadata": {},
   "outputs": [
    {
     "name": "stdout",
     "output_type": "stream",
     "text": [
      "The clusters are: \n",
      " [5 0 2 ... 2 7 6]\n",
      "\n",
      "\n",
      "The centres are: \n",
      " [[ 87.60107767  96.27387588  98.64288369 ...  86.2047566   89.09048681\n",
      "   85.07506503]\n",
      " [ 46.31959391  47.35431472  39.29969543 ...  68.22619289  67.03573604\n",
      "   54.47756345]\n",
      " [174.76062371 185.59235778 193.395305   ... 101.90507197 102.16997944\n",
      "   92.79283756]\n",
      " ...\n",
      " [192.89178267 204.9104176  216.15536596 ... 118.58374495 122.69690166\n",
      "  119.6324652 ]\n",
      " [122.41811175 137.35765896 148.55081888 ... 148.34802505 154.102842\n",
      "  156.16401734]\n",
      " [110.67808422 111.53024911  93.19572954 ... 106.82858837 103.03618031\n",
      "   81.44988138]]\n"
     ]
    }
   ],
   "source": [
    "# Fitting K-Means algorithm to dataset with 10 clusters\n",
    "# No. of clusters taken as 10 as there are 10 categories in the dataset\n",
    "kmeans = KMeans(n_clusters = 10, random_state = 10)\n",
    "\n",
    "y_kmeans = kmeans.fit_predict(x_trg)\n",
    "print(\"The clusters are: \\n\", y_kmeans)\n",
    "print(\"\\n\")\n",
    "print(\"The centres are: \\n\", kmeans.cluster_centers_)"
   ]
  },
  {
   "cell_type": "code",
   "execution_count": 6,
   "metadata": {},
   "outputs": [],
   "source": [
    "# Determine number of observations in the cluster\n",
    "data = {\"Original\" : y_trg, \"Predicted\" : y_kmeans}"
   ]
  },
  {
   "cell_type": "code",
   "execution_count": 7,
   "metadata": {},
   "outputs": [
    {
     "name": "stdout",
     "output_type": "stream",
     "text": [
      "Details of the predicted clusters are: \n",
      " 3    7095\n",
      "9    6743\n",
      "2    5836\n",
      "0    5382\n",
      "5    5070\n",
      "1    4925\n",
      "7    4454\n",
      "8    4152\n",
      "6    3614\n",
      "4    2729\n",
      "Name: Predicted, dtype: int64\n"
     ]
    }
   ],
   "source": [
    "# Converting to dataframe\n",
    "kmeans_df = pd.DataFrame(data, columns = [\"Original\", \"Predicted\"])\n",
    "print(\"Details of the predicted clusters are: \\n\", kmeans_df[\"Predicted\"].value_counts())"
   ]
  },
  {
   "cell_type": "markdown",
   "metadata": {},
   "source": [
    "We can see the dataset of both training and text,  x values are (50000,32,32,3) and (10000,32,32,3) respectively. This means the images we have in the dataset are colored images. As we want to apply the cluster analysis so the data needs to be in 2-D. Hence, the dats was converted into a new dimension(50000, 3072). It is taken as 3072 because 32x32x3 = 3072. As there are 10 categories in `cifar10` dataset, hence we considered 10 clusters as optimal clusters."
   ]
  }
 ],
 "metadata": {
  "kernelspec": {
   "display_name": "Python 3",
   "language": "python",
   "name": "python3"
  },
  "language_info": {
   "codemirror_mode": {
    "name": "ipython",
    "version": 3
   },
   "file_extension": ".py",
   "mimetype": "text/x-python",
   "name": "python",
   "nbconvert_exporter": "python",
   "pygments_lexer": "ipython3",
   "version": "3.8.6"
  }
 },
 "nbformat": 4,
 "nbformat_minor": 4
}
