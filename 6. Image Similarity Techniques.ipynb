{
 "cells": [
  {
   "cell_type": "markdown",
   "metadata": {},
   "source": [
    "# Image Similarity Techniques"
   ]
  },
  {
   "cell_type": "code",
   "execution_count": 1,
   "metadata": {},
   "outputs": [],
   "source": [
    "# Import the necessary packages and dataset\n",
    "import warnings\n",
    "warnings.filterwarnings (\"ignore\")\n",
    "\n",
    "from keras.datasets import fashion_mnist\n",
    "import numpy as np"
   ]
  },
  {
   "cell_type": "code",
   "execution_count": 2,
   "metadata": {},
   "outputs": [
    {
     "name": "stdout",
     "output_type": "stream",
     "text": [
      "Original dimensions of training set is:  (60000, 28, 28)\n",
      "Original dimensions of test set is:  (10000, 28, 28)\n"
     ]
    }
   ],
   "source": [
    "(x_trg, y_trg), (x_test_org, y_test_org) = fashion_mnist.load_data()\n",
    "print(\"Original dimensions of training set is: \", x_trg.shape)\n",
    "print(\"Original dimensions of test set is: \", x_test_org.shape)"
   ]
  },
  {
   "cell_type": "code",
   "execution_count": 3,
   "metadata": {},
   "outputs": [
    {
     "name": "stdout",
     "output_type": "stream",
     "text": [
      "New dimensions of test set is:  (10000, 784)\n"
     ]
    }
   ],
   "source": [
    "# Converting to new dimensions\n",
    "x_test = np.reshape(x_test_org, (10000, 784))\n",
    "print(\"New dimensions of test set is: \", x_test.shape)"
   ]
  },
  {
   "cell_type": "markdown",
   "metadata": {},
   "source": [
    "#### Cosine Similarity"
   ]
  },
  {
   "cell_type": "code",
   "execution_count": 4,
   "metadata": {},
   "outputs": [],
   "source": [
    "# Importing necessary packages\n",
    "import pandas as pd\n",
    "import matplotlib.pyplot as plt\n",
    "from sklearn.metrics.pairwise import cosine_similarity"
   ]
  },
  {
   "cell_type": "code",
   "execution_count": 5,
   "metadata": {},
   "outputs": [
    {
     "name": "stdout",
     "output_type": "stream",
     "text": [
      "The shape of the matrix is:  (10000, 10000)\n",
      "\n",
      "\n",
      "Details of cosine similarity: \n",
      " [[1.         0.53737176 0.29959086 ... 0.41691091 0.29104272 0.75233371]\n",
      " [0.53737176 1.         0.57679881 ... 0.51693626 0.5259895  0.60401192]\n",
      " [0.29959086 0.57679881 1.         ... 0.5212979  0.77687777 0.38123159]\n",
      " ...\n",
      " [0.41691091 0.51693626 0.5212979  ... 1.         0.46994367 0.38640914]\n",
      " [0.29104272 0.5259895  0.77687777 ... 0.46994367 1.         0.3511436 ]\n",
      " [0.75233371 0.60401192 0.38123159 ... 0.38640914 0.3511436  1.        ]]\n"
     ]
    }
   ],
   "source": [
    "cos_sim = cosine_similarity(x_test)\n",
    "print(\"The shape of the matrix is: \", cos_sim.shape)\n",
    "print(\"\\n\")\n",
    "print(\"Details of cosine similarity: \\n\", cos_sim)"
   ]
  },
  {
   "cell_type": "code",
   "execution_count": 6,
   "metadata": {},
   "outputs": [
    {
     "name": "stdout",
     "output_type": "stream",
     "text": [
      "          0         1         2         3         4         5         6     \\\n",
      "0     1.000000  0.537372  0.299591  0.254649  0.555361  0.297692  0.309707   \n",
      "1     0.537372  1.000000  0.576799  0.545639  0.841516  0.592099  0.594745   \n",
      "2     0.299591  0.576799  1.000000  0.865599  0.627106  0.906102  0.419301   \n",
      "3     0.254649  0.545639  0.865599  1.000000  0.578542  0.750548  0.410611   \n",
      "4     0.555361  0.841516  0.627106  0.578542  1.000000  0.657607  0.570147   \n",
      "...        ...       ...       ...       ...       ...       ...       ...   \n",
      "9995  0.798158  0.639388  0.398348  0.353610  0.659352  0.405944  0.365798   \n",
      "9996  0.247718  0.518909  0.734896  0.816223  0.524992  0.644245  0.387917   \n",
      "9997  0.416911  0.516936  0.521298  0.497690  0.574657  0.538780  0.485490   \n",
      "9998  0.291043  0.525989  0.776878  0.824848  0.564886  0.673214  0.368430   \n",
      "9999  0.752334  0.604012  0.381232  0.301489  0.583261  0.389066  0.389948   \n",
      "\n",
      "          7         8         9     ...      9990      9991      9992  \\\n",
      "0     0.470670  0.274056  0.534140  ...  0.316491  0.435657  0.544520   \n",
      "1     0.792383  0.351129  0.445176  ...  0.465235  0.733870  0.700224   \n",
      "2     0.559685  0.232678  0.307441  ...  0.266527  0.574629  0.550720   \n",
      "3     0.527365  0.186326  0.233870  ...  0.281865  0.522436  0.496869   \n",
      "4     0.768917  0.311435  0.451097  ...  0.504615  0.749604  0.665478   \n",
      "...        ...       ...       ...  ...       ...       ...       ...   \n",
      "9995  0.570887  0.256146  0.490732  ...  0.450163  0.521988  0.587872   \n",
      "9996  0.501538  0.216899  0.247504  ...  0.203086  0.436786  0.456632   \n",
      "9997  0.522803  0.090397  0.203413  ...  0.304453  0.483627  0.748002   \n",
      "9998  0.532739  0.241465  0.302779  ...  0.231138  0.515273  0.516327   \n",
      "9999  0.562866  0.448736  0.690905  ...  0.282340  0.518901  0.596240   \n",
      "\n",
      "          9993      9994      9995      9996      9997      9998      9999  \n",
      "0     0.776932  0.299393  0.798158  0.247718  0.416911  0.291043  0.752334  \n",
      "1     0.616746  0.549519  0.639388  0.518909  0.516936  0.525989  0.604012  \n",
      "2     0.375913  0.932433  0.398348  0.734896  0.521298  0.776878  0.381232  \n",
      "3     0.345427  0.904943  0.353610  0.816223  0.497690  0.824848  0.301489  \n",
      "4     0.616102  0.600886  0.659352  0.524992  0.574657  0.564886  0.583261  \n",
      "...        ...       ...       ...       ...       ...       ...       ...  \n",
      "9995  0.913332  0.405414  1.000000  0.331539  0.467870  0.405422  0.725079  \n",
      "9996  0.314449  0.755508  0.331539  1.000000  0.456259  0.780487  0.286531  \n",
      "9997  0.469671  0.478723  0.467870  0.456259  1.000000  0.469944  0.386409  \n",
      "9998  0.385787  0.871498  0.405422  0.780487  0.469944  1.000000  0.351144  \n",
      "9999  0.701250  0.370545  0.725079  0.286531  0.386409  0.351144  1.000000  \n",
      "\n",
      "[10000 rows x 10000 columns]\n",
      "\n",
      "\n",
      "Shape of the dataframe is:  (10000, 10000)\n"
     ]
    }
   ],
   "source": [
    "# Converting to a dataframe\n",
    "cosine_df = pd.DataFrame(cos_sim)\n",
    "print(cosine_df)\n",
    "print(\"\\n\")\n",
    "print(\"Shape of the dataframe is: \", cosine_df.shape)"
   ]
  },
  {
   "cell_type": "code",
   "execution_count": 7,
   "metadata": {},
   "outputs": [
    {
     "name": "stdout",
     "output_type": "stream",
     "text": [
      "Cosine Similarity Information of the product is: \n",
      " [0.73391198 0.72703189 0.4878277  ... 0.46116883 0.46004688 0.76807936]\n"
     ]
    }
   ],
   "source": [
    "# Check the information\n",
    "prod_info = cosine_df.iloc[245].values\n",
    "print(\"Cosine Similarity Information of the product is: \\n\", prod_info)"
   ]
  },
  {
   "cell_type": "code",
   "execution_count": 8,
   "metadata": {},
   "outputs": [],
   "source": [
    "# Import the necessary package to display the product\n",
    "from skimage.io import imread, imshow"
   ]
  },
  {
   "cell_type": "code",
   "execution_count": 9,
   "metadata": {},
   "outputs": [
    {
     "data": {
      "text/plain": [
       "<matplotlib.image.AxesImage at 0x24a73725f70>"
      ]
     },
     "execution_count": 9,
     "metadata": {},
     "output_type": "execute_result"
    },
    {
     "data": {
      "image/png": "[encoded data removed]",
      "text/plain": [
       "<Figure size 432x288 with 1 Axes>"
      ]
     },
     "metadata": {
      "needs_background": "light"
     },
     "output_type": "display_data"
    }
   ],
   "source": [
    "# Display the image of the product\n",
    "plt.imshow(x_test_org[245])"
   ]
  },
  {
   "cell_type": "code",
   "execution_count": 10,
   "metadata": {},
   "outputs": [
    {
     "name": "stdout",
     "output_type": "stream",
     "text": [
      "Indexes of similar images are: \n",
      " [ 245 8361 3602 9229 9404 7240 1103 3213 8143 6497]\n"
     ]
    }
   ],
   "source": [
    "# Display the index of 10 similar products\n",
    "similar_images_index = np.argsort(-prod_info)[0:10]\n",
    "print(\"Indexes of similar images are: \\n\", similar_images_index)"
   ]
  },
  {
   "cell_type": "code",
   "execution_count": 11,
   "metadata": {},
   "outputs": [
    {
     "data": {
      "image/png": "[encoded data removed]",
      "text/plain": [
       "<Figure size 1440x7200 with 10 Axes>"
      ]
     },
     "metadata": {
      "needs_background": "light"
     },
     "output_type": "display_data"
    }
   ],
   "source": [
    "# Display the images of 10 similar products\n",
    "plt.figure(1, figsize = (20,100))\n",
    "\n",
    "for i in range(0,10):\n",
    "    plt.subplot(1,10, i+1)\n",
    "    plt.imshow(x_test_org[similar_images_index[i]])\n",
    "    \n",
    "plt.show()"
   ]
  },
  {
   "cell_type": "markdown",
   "metadata": {},
   "source": [
    "#### Euclidean Distances"
   ]
  },
  {
   "cell_type": "code",
   "execution_count": 12,
   "metadata": {},
   "outputs": [],
   "source": [
    "# Importing the necessary packages\n",
    "from sklearn.metrics.pairwise import euclidean_distances"
   ]
  },
  {
   "cell_type": "code",
   "execution_count": 13,
   "metadata": {},
   "outputs": [
    {
     "name": "stdout",
     "output_type": "stream",
     "text": [
      "The shape of the matrix is:  (10000, 10000)\n"
     ]
    }
   ],
   "source": [
    "# Data understanding\n",
    "euc_similarity = euclidean_distances(x_test)\n",
    "print(\"The shape of the matrix is: \", euc_similarity.shape)"
   ]
  },
  {
   "cell_type": "code",
   "execution_count": 14,
   "metadata": {},
   "outputs": [
    {
     "name": "stdout",
     "output_type": "stream",
     "text": [
      "             0            1            2            3            4     \\\n",
      "0        0.000000  4052.726736  3458.619089  2913.005493  2497.009612   \n",
      "1     4052.726736     0.000000  3962.159260  4017.010953  2826.276880   \n",
      "2     3458.619089  3962.159260     0.000000  1745.257861  2744.832417   \n",
      "3     2913.005493  4017.010953  1745.257861     0.000000  2501.913668   \n",
      "4     2497.009612  2826.276880  2744.832417  2501.913668     0.000000   \n",
      "...           ...          ...          ...          ...          ...   \n",
      "9995  2062.348661  3695.486977  3693.119007  3400.508638  2613.303465   \n",
      "9996  2534.320422  4148.160556  2383.151275  1458.044238  2485.184299   \n",
      "9997  2588.439684  4101.742313  2980.204691  2511.460332  2518.463619   \n",
      "9998  3054.001801  4085.469985  2135.887403  1599.544310  2663.904278   \n",
      "9999  1495.746636  4033.572858  3139.059095  2525.901621  2355.384257   \n",
      "\n",
      "             5            6            7            8            9     ...  \\\n",
      "0     3269.912384  2475.951736  2432.112251  2253.794134  2054.496045  ...   \n",
      "1     3872.154568  3961.622269  3217.079421  4512.098846  4294.132741  ...   \n",
      "2     1431.118793  3109.420042  2856.100138  3312.557320  3343.595669  ...   \n",
      "3     2072.138026  2448.111517  2406.788940  2561.806589  2788.750437  ...   \n",
      "4     2501.605085  2395.766683  1866.007771  2769.406976  2665.838892  ...   \n",
      "...           ...          ...          ...          ...          ...  ...   \n",
      "9995  3537.558339  3198.446029  2805.821805  3260.145702  2938.761644  ...   \n",
      "9996  2399.103374  2077.903511  2204.953514  1958.775638  2323.758593  ...   \n",
      "9997  2761.946596  2307.356279  2426.439779  2686.064780  2853.409890  ...   \n",
      "9998  2418.004549  2760.505389  2563.822732  2777.909466  2898.133710  ...   \n",
      "9999  2905.768229  1962.608214  2038.547032  1505.731716  1434.477605  ...   \n",
      "\n",
      "             9990         9991         9992         9993         9994  \\\n",
      "0     3340.277833  3042.203806  2880.273598  2157.015067  3030.808308   \n",
      "1     4368.277693  3266.062155  3420.986700  3795.270741  4006.776385   \n",
      "2     4030.381372  3057.252688  3212.366417  3774.669787  1269.546770   \n",
      "3     3514.393689  2880.888231  3058.160068  3438.100202  1193.601273   \n",
      "4     3089.114922  2197.530205  2615.066538  2783.114622  2548.027472   \n",
      "...           ...          ...          ...          ...          ...   \n",
      "9995  3476.279333  3227.545197  3065.470600  1401.602654  3388.934198   \n",
      "9996  3411.373330  2948.013568  3036.109352  3297.232779  1859.137165   \n",
      "9997  3468.380602  2993.075676  2255.658219  3123.037624  2725.919478   \n",
      "9998  3791.083882  3005.426259  3096.307317  3462.374185  1423.310226   \n",
      "9999  3212.173719  2775.309712  2762.094857  2529.528810  2662.607932   \n",
      "\n",
      "             9995         9996         9997         9998         9999  \n",
      "0     2062.348661  2534.320422  2588.439684  3054.001801  1495.746636  \n",
      "1     3695.486977  4148.160556  4101.742313  4085.469985  4033.572858  \n",
      "2     3693.119007  2383.151275  2980.204691  2135.887403  3139.059095  \n",
      "3     3400.508638  1458.044238  2511.460332  1599.544310  2525.901621  \n",
      "4     2613.303465  2485.184299  2518.463619  2663.904278  2355.384257  \n",
      "...           ...          ...          ...          ...          ...  \n",
      "9995     0.000000  3244.725566  3111.107198  3392.398414  2456.794253  \n",
      "9996  3244.725566     0.000000  2338.636782  1795.184949  2054.088119  \n",
      "9997  3111.107198  2338.636782     0.000000  2753.351594  2400.819860  \n",
      "9998  3392.398414  1795.184949  2753.351594     0.000000  2701.798105  \n",
      "9999  2456.794253  2054.088119  2400.819860  2701.798105     0.000000  \n",
      "\n",
      "[10000 rows x 10000 columns]\n",
      "\n",
      "\n",
      "Shape of the dataframe is:  (10000, 10000)\n"
     ]
    }
   ],
   "source": [
    "# Converting into a dataframe\n",
    "euc_df = pd.DataFrame(euc_similarity)\n",
    "print(euc_df)\n",
    "print(\"\\n\")\n",
    "print(\"Shape of the dataframe is: \", euc_df.shape)"
   ]
  },
  {
   "cell_type": "code",
   "execution_count": 15,
   "metadata": {},
   "outputs": [
    {
     "name": "stdout",
     "output_type": "stream",
     "text": [
      "Euclidean Distances with other product is: \n",
      " [1896.17404264 4018.04529591 3487.4345872  ... 2907.67914323 3117.10041545\n",
      " 1698.45930184]\n"
     ]
    }
   ],
   "source": [
    "# Determine the information about the product\n",
    "euc_prod_info = euc_df.iloc[640].values\n",
    "print(\"Euclidean Distances with other product is: \\n\", euc_prod_info)"
   ]
  },
  {
   "cell_type": "code",
   "execution_count": 16,
   "metadata": {},
   "outputs": [
    {
     "data": {
      "text/plain": [
       "<matplotlib.image.AxesImage at 0x24a7626ef70>"
      ]
     },
     "execution_count": 16,
     "metadata": {},
     "output_type": "execute_result"
    },
    {
     "data": {
      "image/png": "[encoded data removed]",
      "text/plain": [
       "<Figure size 432x288 with 1 Axes>"
      ]
     },
     "metadata": {
      "needs_background": "light"
     },
     "output_type": "display_data"
    }
   ],
   "source": [
    "# Display the image of product\n",
    "plt.imshow(x_test_org[640])"
   ]
  },
  {
   "cell_type": "code",
   "execution_count": 17,
   "metadata": {},
   "outputs": [
    {
     "name": "stdout",
     "output_type": "stream",
     "text": [
      "Index of similar images are: \n",
      " [ 640  412  746 7761 1461 2502 8971  448 2651  944]\n"
     ]
    }
   ],
   "source": [
    "# Display the index of 10 similar products\n",
    "euc_similar_images_index = np.argsort(euc_prod_info)[0:10]\n",
    "print(\"Index of similar images are: \\n\", euc_similar_images_index)"
   ]
  },
  {
   "cell_type": "code",
   "execution_count": 18,
   "metadata": {},
   "outputs": [
    {
     "data": {
      "image/png": "[encoded data removed]",
      "text/plain": [
       "<Figure size 1440x7200 with 10 Axes>"
      ]
     },
     "metadata": {
      "needs_background": "light"
     },
     "output_type": "display_data"
    }
   ],
   "source": [
    "# Display the images of 10 similar products\n",
    "plt.figure(1, figsize = (20,100))\n",
    "\n",
    "for i in range(0,10):\n",
    "    plt.subplot(1,10, i+1)\n",
    "    plt.imshow(x_test_org[euc_similar_images_index[i]])\n",
    "    \n",
    "plt.show()"
   ]
  },
  {
   "cell_type": "markdown",
   "metadata": {},
   "source": [
    "#### Manhattan Distances"
   ]
  },
  {
   "cell_type": "code",
   "execution_count": 19,
   "metadata": {},
   "outputs": [],
   "source": [
    "# Import the necessary package\n",
    "from sklearn.metrics.pairwise import manhattan_distances"
   ]
  },
  {
   "cell_type": "code",
   "execution_count": 20,
   "metadata": {},
   "outputs": [
    {
     "name": "stdout",
     "output_type": "stream",
     "text": [
      "The shape of the matrix is:  (10000, 10000)\n"
     ]
    }
   ],
   "source": [
    "# Data Understanding\n",
    "man_sim = manhattan_distances(x_test)\n",
    "print(\"The shape of the matrix is: \", man_sim.shape)"
   ]
  },
  {
   "cell_type": "code",
   "execution_count": 21,
   "metadata": {},
   "outputs": [
    {
     "name": "stdout",
     "output_type": "stream",
     "text": [
      "         0        1        2        3        4        5        6        7     \\\n",
      "0         0.0  83718.0  64230.0  52475.0  50157.0  61705.0  45111.0  48604.0   \n",
      "1     83718.0      0.0  74808.0  79515.0  60895.0  75205.0  81045.0  66914.0   \n",
      "2     64230.0  74808.0      0.0  23713.0  57965.0  18713.0  54959.0  56124.0   \n",
      "3     52475.0  79515.0  23713.0      0.0  49450.0  30394.0  41712.0  46653.0   \n",
      "4     50157.0  60895.0  57965.0  49450.0      0.0  51352.0  48474.0  35855.0   \n",
      "...       ...      ...      ...      ...      ...      ...      ...      ...   \n",
      "9995  29776.0  72708.0  71562.0  66157.0  55359.0  69581.0  63341.0  58116.0   \n",
      "9996  44452.0  85252.0  35492.0  19059.0  48861.0  38503.0  33571.0  41674.0   \n",
      "9997  43202.0  82314.0  47900.0  39169.0  51259.0  44129.0  38839.0  47208.0   \n",
      "9998  55089.0  79825.0  27379.0  20272.0  55738.0  34296.0  48056.0  50171.0   \n",
      "9999  22634.0  84176.0  57220.0  44311.0  48219.0  53975.0  32989.0  39222.0   \n",
      "\n",
      "         8        9     ...     9990     9991     9992     9993     9994  \\\n",
      "0     34254.0  30676.0  ...  60448.0  60748.0  50518.0  32584.0  54837.0   \n",
      "1     93564.0  89948.0  ...  89170.0  63102.0  63014.0  74656.0  78747.0   \n",
      "2     53400.0  59176.0  ...  75300.0  57354.0  56406.0  73716.0  15179.0   \n",
      "3     38961.0  47497.0  ...  63783.0  52875.0  53891.0  66723.0  15786.0   \n",
      "4     59087.0  56055.0  ...  68297.0  42673.0  54807.0  59879.0  52012.0   \n",
      "...       ...      ...  ...      ...      ...      ...      ...      ...   \n",
      "9995  58852.0  52034.0  ...  65078.0  66014.0  54258.0  19010.0  64499.0   \n",
      "9996  28544.0  38018.0  ...  61002.0  54792.0  54648.0  63124.0  26225.0   \n",
      "9997  41884.0  49832.0  ...  61634.0  55238.0  33454.0  55642.0  43525.0   \n",
      "9998  41695.0  48751.0  ...  69253.0  54657.0  52711.0  64287.0  16620.0   \n",
      "9999  23280.0  21884.0  ...  58090.0  53674.0  50754.0  44426.0  47937.0   \n",
      "\n",
      "         9995     9996     9997     9998     9999  \n",
      "0     29776.0  44452.0  43202.0  55089.0  22634.0  \n",
      "1     72708.0  85252.0  82314.0  79825.0  84176.0  \n",
      "2     71562.0  35492.0  47900.0  27379.0  57220.0  \n",
      "3     66157.0  19059.0  39169.0  20272.0  44311.0  \n",
      "4     55359.0  48861.0  51259.0  55738.0  48219.0  \n",
      "...       ...      ...      ...      ...      ...  \n",
      "9995      0.0  62202.0  55960.0  63423.0  43172.0  \n",
      "9996  62202.0      0.0  36530.0  24177.0  35352.0  \n",
      "9997  55960.0  36530.0      0.0  43089.0  41798.0  \n",
      "9998  63423.0  24177.0  43089.0      0.0  48281.0  \n",
      "9999  43172.0  35352.0  41798.0  48281.0      0.0  \n",
      "\n",
      "[10000 rows x 10000 columns]\n",
      "\n",
      "\n",
      "Shape of the dataframe is:  (10000, 10000)\n"
     ]
    }
   ],
   "source": [
    "# Converting into a dataframe\n",
    "man_df = pd.DataFrame(man_sim)\n",
    "print(man_df)\n",
    "print(\"\\n\")\n",
    "print(\"Shape of the dataframe is: \", man_df.shape)"
   ]
  },
  {
   "cell_type": "code",
   "execution_count": 22,
   "metadata": {},
   "outputs": [
    {
     "name": "stdout",
     "output_type": "stream",
     "text": [
      "Manhattan Distances with other product is: \n",
      " [27818. 81174. 63916. ... 50438. 54663. 25892.]\n"
     ]
    }
   ],
   "source": [
    "# Determine the information about the product\n",
    "man_prod_info = man_df.iloc[640].values\n",
    "print(\"Manhattan Distances with other product is: \\n\", man_prod_info)"
   ]
  },
  {
   "cell_type": "code",
   "execution_count": 23,
   "metadata": {},
   "outputs": [
    {
     "data": {
      "text/plain": [
       "<matplotlib.image.AxesImage at 0x24a73dbda30>"
      ]
     },
     "execution_count": 23,
     "metadata": {},
     "output_type": "execute_result"
    },
    {
     "data": {
      "image/png": "[encoded data removed]",
      "text/plain": [
       "<Figure size 432x288 with 1 Axes>"
      ]
     },
     "metadata": {
      "needs_background": "light"
     },
     "output_type": "display_data"
    }
   ],
   "source": [
    "# Display the image of the product\n",
    "plt.imshow(x_test_org[750])"
   ]
  },
  {
   "cell_type": "code",
   "execution_count": 24,
   "metadata": {},
   "outputs": [
    {
     "name": "stdout",
     "output_type": "stream",
     "text": [
      "Index of similar images: \n",
      " [ 640 7761 2996 5723  944  412  746 1461 2502 8972]\n"
     ]
    }
   ],
   "source": [
    "# Display the index of 10 similar products\n",
    "man_similar_images_index = np.argsort(man_prod_info)[0:10]\n",
    "print(\"Index of similar images: \\n\", man_similar_images_index)"
   ]
  },
  {
   "cell_type": "code",
   "execution_count": 26,
   "metadata": {},
   "outputs": [
    {
     "data": {
      "image/png": "[encoded data removed]",
      "text/plain": [
       "<Figure size 1440x7200 with 10 Axes>"
      ]
     },
     "metadata": {
      "needs_background": "light"
     },
     "output_type": "display_data"
    }
   ],
   "source": [
    "# Display the images of 10 similar products\n",
    "plt.figure(1, figsize = (20,100))\n",
    "\n",
    "for i in range(0,10):\n",
    "    plt.subplot(1,10, i+1)\n",
    "    plt.imshow(x_test_org[man_similar_images_index[i]])\n",
    "    \n",
    "plt.show()"
   ]
  }
 ],
 "metadata": {
  "kernelspec": {
   "display_name": "Python 3",
   "language": "python",
   "name": "python3"
  },
  "language_info": {
   "codemirror_mode": {
    "name": "ipython",
    "version": 3
   },
   "file_extension": ".py",
   "mimetype": "text/x-python",
   "name": "python",
   "nbconvert_exporter": "python",
   "pygments_lexer": "ipython3",
   "version": "3.8.6"
  }
 },
 "nbformat": 4,
 "nbformat_minor": 4
}
